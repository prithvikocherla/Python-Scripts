{
 "cells": [
  {
   "cell_type": "code",
   "execution_count": 1,
   "metadata": {},
   "outputs": [],
   "source": [
    "import pandas as pd\n",
    "from collections import OrderedDict\n",
    "\n",
    "df = pd.read_csv('input.txt', header=None)\n",
    "df=df[0]\n",
    "\n",
    "text_list = []\n",
    "for i in df:\n",
    "    words = i.split()\n",
    "    for x in words:\n",
    "        text_list.append(x)  "
   ]
  },
  {
   "cell_type": "code",
   "execution_count": 2,
   "metadata": {},
   "outputs": [],
   "source": [
    "dict_words = {}\n",
    "for i in text_list:\n",
    "    dict_words.update({i:text_list.count(i)})\n",
    "dict_words_sorted = OrderedDict(sorted(dict_words.items(), key=lambda x: x[1], reverse=True))"
   ]
  },
  {
   "cell_type": "code",
   "execution_count": 7,
   "metadata": {},
   "outputs": [],
   "source": [
    "def freqcount(x):    \n",
    "    for x, y in list(dict_words_sorted.items())[0:x]:\n",
    "        print(\"{}: {}\".format(x,y))"
   ]
  },
  {
   "cell_type": "code",
   "execution_count": 8,
   "metadata": {},
   "outputs": [
    {
     "name": "stdout",
     "output_type": "stream",
     "text": [
      "Please specify the number of top words to be displayed: 5\n",
      "\n",
      "interact: 185\n",
      "amer: 128\n",
      "to: 112\n",
      "how: 82\n",
      "database: 76\n"
     ]
    }
   ],
   "source": [
    "var = input('Please specify the number of top words to be displayed: ')\n",
    "print(\"\")\n",
    "freqcount(int(var))"
   ]
  },
  {
   "cell_type": "code",
   "execution_count": null,
   "metadata": {},
   "outputs": [],
   "source": []
  }
 ],
 "metadata": {
  "kernelspec": {
   "display_name": "Python 3",
   "language": "python",
   "name": "python3"
  },
  "language_info": {
   "codemirror_mode": {
    "name": "ipython",
    "version": 3
   },
   "file_extension": ".py",
   "mimetype": "text/x-python",
   "name": "python",
   "nbconvert_exporter": "python",
   "pygments_lexer": "ipython3",
   "version": "3.7.1"
  }
 },
 "nbformat": 4,
 "nbformat_minor": 2
}
