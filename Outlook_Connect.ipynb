{
 "cells": [
  {
   "cell_type": "code",
   "execution_count": 85,
   "metadata": {},
   "outputs": [
    {
     "name": "stdout",
     "output_type": "stream",
     "text": [
      "Connecting to Outlook\n",
      "found inbox (prithvi.kocherla@outlook.com) processing...\n",
      "\n",
      "Received mails today:\n",
      "Subject: FW: Tyra Jefferson invited you to 'Centre Gallery Presents: Ugly Terribleand Wanting'\n",
      "Attachment Name: Centre Gallery Presents Ugly Terrible and Wanting.ics\n",
      "Attachment available in Downloads folder\n"
     ]
    }
   ],
   "source": [
    "import os\n",
    "import win32com.client\n",
    "import re\n",
    "from datetime import datetime\n",
    "\n",
    "get_path = r'C:\\Users\\prith\\Downloads'\n",
    "\n",
    "print(\"Connecting to Outlook\")\n",
    "outlook = win32com.client.Dispatch(\"Outlook.Application\").GetNamespace(\"MAPI\")\n",
    "mailbox = outlook.Folders\n",
    "\n",
    "for i in mailbox:\n",
    "    if re.match(r\"[\\w\\.-]+@[\\w\\.-]+\",str(i)):\n",
    "        print(\"found inbox (\" + str(i) + \") processing...\")\n",
    "        break\n",
    "\n",
    "inbox = outlook.Folders[0]\n",
    "main_inbox = inbox.Folders['Inbox']\n",
    "\n",
    "current_date = datetime.today().strftime('%Y-%m-%d')\n",
    "\n",
    "print(\"\\nReceived mails today:\")\n",
    "for i in main_inbox.Items:\n",
    "    email_date = str(i.ReceivedTime.date())\n",
    "    if(email_date == current_date):\n",
    "        print(\"Subject: \" + i.subject)\n",
    "        \n",
    "        attachments = i.Attachments\n",
    "        x = 1\n",
    "        while x <= attachments.Count:\n",
    "            attachment = attachments.Item(x)\n",
    "            x += 1\n",
    "            \n",
    "            attachment.SaveAsFile(os.path.join(get_path, attachment.FileName))\n",
    "            print(\"Attachment Name: \" + str(attachment))\n",
    "            print(\"Attachment available in Downloads folder\")\n",
    "            "
   ]
  },
  {
   "cell_type": "code",
   "execution_count": null,
   "metadata": {},
   "outputs": [],
   "source": []
  },
  {
   "cell_type": "code",
   "execution_count": null,
   "metadata": {},
   "outputs": [],
   "source": []
  }
 ],
 "metadata": {
  "kernelspec": {
   "display_name": "Python 3",
   "language": "python",
   "name": "python3"
  },
  "language_info": {
   "codemirror_mode": {
    "name": "ipython",
    "version": 3
   },
   "file_extension": ".py",
   "mimetype": "text/x-python",
   "name": "python",
   "nbconvert_exporter": "python",
   "pygments_lexer": "ipython3",
   "version": "3.7.1"
  }
 },
 "nbformat": 4,
 "nbformat_minor": 2
}
